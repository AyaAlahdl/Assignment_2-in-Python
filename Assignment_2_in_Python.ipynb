{
  "nbformat": 4,
  "nbformat_minor": 0,
  "metadata": {
    "colab": {
      "provenance": []
    },
    "kernelspec": {
      "name": "python3",
      "display_name": "Python 3"
    },
    "language_info": {
      "name": "python"
    }
  },
  "cells": [
    {
      "cell_type": "markdown",
      "source": [
        "1. Add an Item to a Tuple"
      ],
      "metadata": {
        "id": "SjlR2V4BL0sR"
      }
    },
    {
      "cell_type": "code",
      "execution_count": 31,
      "metadata": {
        "colab": {
          "base_uri": "https://localhost:8080/"
        },
        "id": "90R-puQrJtrE",
        "outputId": "7168caad-1ea5-47e4-edbe-fe15d898a3e9"
      },
      "outputs": [
        {
          "output_type": "stream",
          "name": "stdout",
          "text": [
            "(1, 2, 3, 4)\n"
          ]
        }
      ],
      "source": [
        "tuple = (1, 2, 3)\n",
        "tuple = tuple + (4,)\n",
        "print(tuple)\n"
      ]
    },
    {
      "cell_type": "markdown",
      "source": [
        "2. Sum All Items in a List\n"
      ],
      "metadata": {
        "id": "FUybJVd2Lyl0"
      }
    },
    {
      "cell_type": "code",
      "source": [
        "my_list = [1, 2, 3, 4]\n",
        "print(sum(my_list))\n",
        "\n",
        "\n",
        "\n"
      ],
      "metadata": {
        "colab": {
          "base_uri": "https://localhost:8080/"
        },
        "id": "wLOvNZnbJ2kO",
        "outputId": "4c8f835a-3539-47cc-8e74-1ad971e2a1d1"
      },
      "execution_count": 49,
      "outputs": [
        {
          "output_type": "stream",
          "name": "stdout",
          "text": [
            "10\n"
          ]
        }
      ]
    },
    {
      "cell_type": "markdown",
      "source": [
        "3. Multiply All Items in a List\n"
      ],
      "metadata": {
        "id": "gFoFlWh9dISW"
      }
    },
    {
      "cell_type": "code",
      "source": [
        "import math\n",
        "my_list = [1, 2, 3, 4]\n",
        "result = math.prod(my_list)\n",
        "print(result)"
      ],
      "metadata": {
        "colab": {
          "base_uri": "https://localhost:8080/"
        },
        "id": "168OG2SydGUG",
        "outputId": "119131b5-0c32-45a9-ec61-4083ed8c9b4d"
      },
      "execution_count": 47,
      "outputs": [
        {
          "output_type": "stream",
          "name": "stdout",
          "text": [
            "24\n"
          ]
        }
      ]
    },
    {
      "cell_type": "markdown",
      "source": [
        "4. Get the Smallest Number from a List"
      ],
      "metadata": {
        "id": "a_NrTKcmdDoO"
      }
    },
    {
      "cell_type": "code",
      "source": [
        "my_list = [10, 20, 5, 7]\n",
        "print(min(my_list))"
      ],
      "metadata": {
        "colab": {
          "base_uri": "https://localhost:8080/"
        },
        "id": "J6LG8NX_c_7F",
        "outputId": "09084c01-83ec-493c-c4f0-5734ee664725"
      },
      "execution_count": 46,
      "outputs": [
        {
          "output_type": "stream",
          "name": "stdout",
          "text": [
            "5\n"
          ]
        }
      ]
    },
    {
      "cell_type": "markdown",
      "source": [
        "5. Get the Largest Number from a List"
      ],
      "metadata": {
        "id": "5dqqCYiBc6RU"
      }
    },
    {
      "cell_type": "code",
      "source": [
        "my_list = [10, 20, 5, 7]\n",
        "print(max(my_list))"
      ],
      "metadata": {
        "colab": {
          "base_uri": "https://localhost:8080/"
        },
        "id": "JKLx9ZVGc5ly",
        "outputId": "7c567763-cd62-47f4-d3f8-41727a5bcd42"
      },
      "execution_count": 45,
      "outputs": [
        {
          "output_type": "stream",
          "name": "stdout",
          "text": [
            "20\n"
          ]
        }
      ]
    },
    {
      "cell_type": "markdown",
      "source": [
        "6. Count the Number of Strings in a List"
      ],
      "metadata": {
        "id": "benBPDf4c2NE"
      }
    },
    {
      "cell_type": "code",
      "source": [
        "my_list = [\"apple\", \"banana\", \"123\", \"\", \"Mango\"]\n",
        "string_count = sum(1 for item in my_list if isinstance(item, str))\n",
        "print(string_count)"
      ],
      "metadata": {
        "colab": {
          "base_uri": "https://localhost:8080/"
        },
        "id": "n3t2QvfxcxdI",
        "outputId": "2e2075bf-0c7a-4864-9d2b-cb88cc33c7cd"
      },
      "execution_count": 44,
      "outputs": [
        {
          "output_type": "stream",
          "name": "stdout",
          "text": [
            "5\n"
          ]
        }
      ]
    },
    {
      "cell_type": "markdown",
      "source": [
        "7. Clone or Copy a List"
      ],
      "metadata": {
        "id": "GzdxnDU2ct_v"
      }
    },
    {
      "cell_type": "code",
      "source": [
        "original_list = [1, 2, 3, 4]\n",
        "cloned_list = original_list.copy()\n",
        "print(cloned_list)"
      ],
      "metadata": {
        "colab": {
          "base_uri": "https://localhost:8080/"
        },
        "id": "d06MFdBpcsZe",
        "outputId": "6b24eb2d-8ea4-4fc1-803c-ab671010dcd6"
      },
      "execution_count": 43,
      "outputs": [
        {
          "output_type": "stream",
          "name": "stdout",
          "text": [
            "[1, 2, 3, 4]\n"
          ]
        }
      ]
    },
    {
      "cell_type": "markdown",
      "source": [
        "8. Remove Item(s) from a Given Set"
      ],
      "metadata": {
        "id": "as7iDGp2codJ"
      }
    },
    {
      "cell_type": "code",
      "source": [
        "my_set = {1, 2, 3, 4, 5}\n",
        "my_set.discard(3)\n",
        "print(my_set)"
      ],
      "metadata": {
        "colab": {
          "base_uri": "https://localhost:8080/"
        },
        "id": "rKHBc2p5cm5p",
        "outputId": "ce2743d3-d3c3-4ad4-b925-a29bffb8efc1"
      },
      "execution_count": 42,
      "outputs": [
        {
          "output_type": "stream",
          "name": "stdout",
          "text": [
            "{1, 2, 4, 5}\n"
          ]
        }
      ]
    },
    {
      "cell_type": "markdown",
      "source": [
        "9. Check if a Set is a Subset of Another Set"
      ],
      "metadata": {
        "id": "8CIBrXHIci53"
      }
    },
    {
      "cell_type": "code",
      "source": [
        "set_a = {1, 2, 3}\n",
        "set_b = {1, 2, 3, 4, 5}\n",
        "print(set_a.issubset(set_b))"
      ],
      "metadata": {
        "colab": {
          "base_uri": "https://localhost:8080/"
        },
        "id": "fOiMm-0DcgyO",
        "outputId": "415b27e7-4de8-4ca3-d7d7-b3b896866d2b"
      },
      "execution_count": 41,
      "outputs": [
        {
          "output_type": "stream",
          "name": "stdout",
          "text": [
            "True\n"
          ]
        }
      ]
    },
    {
      "cell_type": "markdown",
      "source": [
        "10. Remove All Elements from a Given Set"
      ],
      "metadata": {
        "id": "MG5LOFugcchs"
      }
    },
    {
      "cell_type": "code",
      "source": [
        "my_set = {1, 2, 3, 4, 5}\n",
        "my_set.clear()\n",
        "print(my_set)"
      ],
      "metadata": {
        "colab": {
          "base_uri": "https://localhost:8080/"
        },
        "id": "35KowzOVcac4",
        "outputId": "fe9e820e-8b27-443a-9dc1-37588fc614aa"
      },
      "execution_count": 40,
      "outputs": [
        {
          "output_type": "stream",
          "name": "stdout",
          "text": [
            "set()\n"
          ]
        }
      ]
    },
    {
      "cell_type": "markdown",
      "source": [
        "11. Find the Maximum and Minimum Values in a Set"
      ],
      "metadata": {
        "id": "B-dlGeGTcVV-"
      }
    },
    {
      "cell_type": "code",
      "source": [
        "my_set = {10, 20, 5, 30}\n",
        "print(max(my_set))\n",
        "print(min(my_set))"
      ],
      "metadata": {
        "colab": {
          "base_uri": "https://localhost:8080/"
        },
        "id": "qJdm9YxscRfK",
        "outputId": "695e29fd-49b0-48be-d20e-99a28e64d27f"
      },
      "execution_count": 39,
      "outputs": [
        {
          "output_type": "stream",
          "name": "stdout",
          "text": [
            "30\n",
            "5\n"
          ]
        }
      ]
    },
    {
      "cell_type": "markdown",
      "source": [
        "12. Find the Index of an Item in a Tuple"
      ],
      "metadata": {
        "id": "8gJZqNHIcOE4"
      }
    },
    {
      "cell_type": "code",
      "source": [
        "my_tuple = ('apple', 'banana', 'Orange')\n",
        "print(my_tuple.index('banana'))"
      ],
      "metadata": {
        "colab": {
          "base_uri": "https://localhost:8080/"
        },
        "id": "ffPgF_8OcHbv",
        "outputId": "33522114-5cd0-4417-bf28-47e3e5e94ae3"
      },
      "execution_count": 38,
      "outputs": [
        {
          "output_type": "stream",
          "name": "stdout",
          "text": [
            "1\n"
          ]
        }
      ]
    },
    {
      "cell_type": "markdown",
      "source": [
        "13. Convert a Tuple to a Dictionary"
      ],
      "metadata": {
        "id": "0VA3sovCcEU_"
      }
    },
    {
      "cell_type": "code",
      "source": [
        "my_tuple = (('a', 1), ('b', 2), ('c', 3))\n",
        "my_dict = dict(my_tuple)\n",
        "print(my_dict)"
      ],
      "metadata": {
        "colab": {
          "base_uri": "https://localhost:8080/"
        },
        "id": "aqvvrrb1cBoV",
        "outputId": "4f868cee-b77a-441f-884e-61f48237f028"
      },
      "execution_count": 37,
      "outputs": [
        {
          "output_type": "stream",
          "name": "stdout",
          "text": [
            "{'a': 1, 'b': 2, 'c': 3}\n"
          ]
        }
      ]
    },
    {
      "cell_type": "markdown",
      "source": [
        "14. Unzip a List of Tuples into Individual Lists"
      ],
      "metadata": {
        "id": "3ZcML0Dsb1Ui"
      }
    },
    {
      "cell_type": "code",
      "source": [
        "\n",
        "list_of_tuples = [(1, 2), (3, 4), (5, 6)]\n",
        "list1, list2 = zip(*list_of_tuples)\n",
        "print(list(list1))\n",
        "print(list(list2))"
      ],
      "metadata": {
        "colab": {
          "base_uri": "https://localhost:8080/"
        },
        "id": "etsHVOeXbzKV",
        "outputId": "9b21f295-5700-482e-a137-e8d1083677ec"
      },
      "execution_count": 36,
      "outputs": [
        {
          "output_type": "stream",
          "name": "stdout",
          "text": [
            "[1, 3, 5]\n",
            "[2, 4, 6]\n"
          ]
        }
      ]
    },
    {
      "cell_type": "markdown",
      "source": [
        "15. Reverse a Tuple"
      ],
      "metadata": {
        "id": "-EiPEDlPbxK7"
      }
    },
    {
      "cell_type": "code",
      "source": [
        "my_tuple = (1, 2, 3, 4)\n",
        "reversed_tuple = my_tuple[::-1]\n",
        "print(reversed_tuple)\n"
      ],
      "metadata": {
        "colab": {
          "base_uri": "https://localhost:8080/"
        },
        "id": "7jeJPtrhbvAl",
        "outputId": "c9cc1227-a140-4c1f-b582-dfb30430e79e"
      },
      "execution_count": 35,
      "outputs": [
        {
          "output_type": "stream",
          "name": "stdout",
          "text": [
            "(4, 3, 2, 1)\n"
          ]
        }
      ]
    },
    {
      "cell_type": "markdown",
      "source": [
        "16. Convert a List of Tuples into a Dictionary\n",
        "\n"
      ],
      "metadata": {
        "id": "B0Huh96_blO9"
      }
    },
    {
      "cell_type": "code",
      "source": [
        "list_of_tuples = [('a', 1), ('b', 2), ('c', 3)]\n",
        "my_dict = dict(list_of_tuples)\n",
        "print(my_dict)"
      ],
      "metadata": {
        "colab": {
          "base_uri": "https://localhost:8080/"
        },
        "id": "zZ06NDzFbk-x",
        "outputId": "6f22c4c0-7a0c-463e-c0f8-64dcbcd4caae"
      },
      "execution_count": 34,
      "outputs": [
        {
          "output_type": "stream",
          "name": "stdout",
          "text": [
            "{'a': 1, 'b': 2, 'c': 3}\n"
          ]
        }
      ]
    },
    {
      "cell_type": "markdown",
      "source": [
        "17. Replace the Last Value of Tuples in a List"
      ],
      "metadata": {
        "id": "Pil3NPDDbf1H"
      }
    },
    {
      "cell_type": "code",
      "source": [
        "sample_list = [(10, 20, 40), (40, 50, 60), (70, 80, 90)]\n",
        "updated_list = [t[:-1] + (100,) for t in sample_list]\n",
        "print(updated_list)"
      ],
      "metadata": {
        "colab": {
          "base_uri": "https://localhost:8080/"
        },
        "id": "Z5IaT3Zbbdix",
        "outputId": "d2664e2a-0b8c-4698-e7b5-141318440d27"
      },
      "execution_count": 33,
      "outputs": [
        {
          "output_type": "stream",
          "name": "stdout",
          "text": [
            "[(10, 20, 100), (40, 50, 100), (70, 80, 100)]\n"
          ]
        }
      ]
    },
    {
      "cell_type": "markdown",
      "source": [
        "18. Sort a Tuple by Its Float Element"
      ],
      "metadata": {
        "id": "qZKzxLgNbLCk"
      }
    },
    {
      "cell_type": "code",
      "source": [
        "my_tuple = (('a', 2.3), ('b', 3.5), ('c', 1.8))\n",
        "sorted_tuple = tuple(sorted(my_tuple, key=lambda x: x[1]))\n",
        "print(sorted_tuple)"
      ],
      "metadata": {
        "colab": {
          "base_uri": "https://localhost:8080/",
          "height": 176
        },
        "id": "jEvJNTrNbOO0",
        "outputId": "3f097abc-462e-405d-ea61-ab90ea8af7e1"
      },
      "execution_count": 32,
      "outputs": [
        {
          "output_type": "error",
          "ename": "TypeError",
          "evalue": "'tuple' object is not callable",
          "traceback": [
            "\u001b[0;31m---------------------------------------------------------------------------\u001b[0m",
            "\u001b[0;31mTypeError\u001b[0m                                 Traceback (most recent call last)",
            "\u001b[0;32m<ipython-input-32-1045b99d8182>\u001b[0m in \u001b[0;36m<cell line: 2>\u001b[0;34m()\u001b[0m\n\u001b[1;32m      1\u001b[0m \u001b[0mmy_tuple\u001b[0m \u001b[0;34m=\u001b[0m \u001b[0;34m(\u001b[0m\u001b[0;34m(\u001b[0m\u001b[0;34m'a'\u001b[0m\u001b[0;34m,\u001b[0m \u001b[0;36m2.3\u001b[0m\u001b[0;34m)\u001b[0m\u001b[0;34m,\u001b[0m \u001b[0;34m(\u001b[0m\u001b[0;34m'b'\u001b[0m\u001b[0;34m,\u001b[0m \u001b[0;36m3.5\u001b[0m\u001b[0;34m)\u001b[0m\u001b[0;34m,\u001b[0m \u001b[0;34m(\u001b[0m\u001b[0;34m'c'\u001b[0m\u001b[0;34m,\u001b[0m \u001b[0;36m1.8\u001b[0m\u001b[0;34m)\u001b[0m\u001b[0;34m)\u001b[0m\u001b[0;34m\u001b[0m\u001b[0;34m\u001b[0m\u001b[0m\n\u001b[0;32m----> 2\u001b[0;31m \u001b[0msorted_tuple\u001b[0m \u001b[0;34m=\u001b[0m \u001b[0mtuple\u001b[0m\u001b[0;34m(\u001b[0m\u001b[0msorted\u001b[0m\u001b[0;34m(\u001b[0m\u001b[0mmy_tuple\u001b[0m\u001b[0;34m,\u001b[0m \u001b[0mkey\u001b[0m\u001b[0;34m=\u001b[0m\u001b[0;32mlambda\u001b[0m \u001b[0mx\u001b[0m\u001b[0;34m:\u001b[0m \u001b[0mx\u001b[0m\u001b[0;34m[\u001b[0m\u001b[0;36m1\u001b[0m\u001b[0;34m]\u001b[0m\u001b[0;34m)\u001b[0m\u001b[0;34m)\u001b[0m\u001b[0;34m\u001b[0m\u001b[0;34m\u001b[0m\u001b[0m\n\u001b[0m\u001b[1;32m      3\u001b[0m \u001b[0mprint\u001b[0m\u001b[0;34m(\u001b[0m\u001b[0msorted_tuple\u001b[0m\u001b[0;34m)\u001b[0m  \u001b[0;31m# Output: (('c', 1.8), ('a', 2.3), ('b', 3.5))\u001b[0m\u001b[0;34m\u001b[0m\u001b[0;34m\u001b[0m\u001b[0m\n",
            "\u001b[0;31mTypeError\u001b[0m: 'tuple' object is not callable"
          ]
        }
      ]
    }
  ]
}